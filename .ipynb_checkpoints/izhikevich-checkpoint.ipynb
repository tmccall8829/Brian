{
 "cells": [
  {
   "cell_type": "code",
   "execution_count": null,
   "metadata": {
    "collapsed": true
   },
   "outputs": [],
   "source": [
    "from brian2 import *\n",
    "\n",
    "\"\"\" All values and equations were taken from https://www.izhikevich.org/publications/spikes.pdf\n",
    "unless otherwise specified \"\"\"\n",
    "\n",
    "\n",
    "a = 0.02     # Dimensionless\n",
    "b = 0.2      # Dimensionless\n",
    "c = -65*mV   # Voltage to reset to after peak\n",
    "\n",
    "eqs = '''\n",
    "dv/dt = 0.04 * (v**2) + 5 * v + 140 - u + I : 1\n",
    "du/dt = a * (b * v - u) : 1\n",
    "'''"
   ]
  }
 ],
 "metadata": {
  "kernelspec": {
   "display_name": "Python 3",
   "language": "python",
   "name": "python3"
  },
  "language_info": {
   "codemirror_mode": {
    "name": "ipython",
    "version": 3
   },
   "file_extension": ".py",
   "mimetype": "text/x-python",
   "name": "python",
   "nbconvert_exporter": "python",
   "pygments_lexer": "ipython3",
   "version": "3.6.1"
  }
 },
 "nbformat": 4,
 "nbformat_minor": 2
}
