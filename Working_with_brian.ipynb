{
 "cells": [
  {
   "cell_type": "code",
   "execution_count": 4,
   "metadata": {
    "collapsed": true
   },
   "outputs": [],
   "source": [
    "from brian2 import Morphology"
   ]
  },
  {
   "cell_type": "code",
   "execution_count": 5,
   "metadata": {
    "collapsed": true
   },
   "outputs": [],
   "source": [
    "%matplotlib inline"
   ]
  },
  {
   "cell_type": "code",
   "execution_count": 6,
   "metadata": {},
   "outputs": [
    {
     "data": {
      "text/plain": [
       "( )  [root] \n",
       "   `--|  .apic\n",
       "       `----------------------------------|  .apic.apic\n",
       "                                           `----------------------|  .apic.apic.apic\n",
       "                                           `--------|  .apic.apic.apic2\n",
       "       `-----|  .apic.apic2\n",
       "              `--------------------------------------------------------------------------------------------------------------------------------------------------------------------|  .apic.apic2.apic\n",
       "              `------|  .apic.apic2.apic2\n",
       "                      `--------------------------------------------------------------------------------------------------------------------------|  .apic.apic2.apic2.apic\n",
       "                      `------|  .apic.apic2.apic2.apic2\n",
       "                              `----------------------------------|  .apic.apic2.apic2.apic2.apic\n",
       "                                                                  `---------------------------------------------------------------------------------------------------|  .apic.apic2.apic2.apic2.apic.apic\n",
       "                                                                  `-------------|  .apic.apic2.apic2.apic2.apic.apic2\n",
       "                              `------------------------------|  .apic.apic2.apic2.apic2.apic2\n",
       "                                                              `---------|  .apic.apic2.apic2.apic2.apic2.apic\n",
       "                                                                         `-----------------|  .apic.apic2.apic2.apic2.apic2.apic.apic\n",
       "                                                                         `--------------------------------|  .apic.apic2.apic2.apic2.apic2.apic.apic2\n",
       "                                                              `--------------------------------------------------------------------------------------------------------------------------------------------------------------------------------|  .apic.apic2.apic2.apic2.apic2.apic2\n",
       "   `-----------------|  .dend\n",
       "                      `--------------------------------------------------------------------|  .dend.dend\n",
       "                      `-------------------------|  .dend.dend2\n",
       "                                                 `-------------------------------------------------------------------------------------------------------------|  .dend.dend2.dend\n",
       "                                                 `----------------------------------------------------------------------------------|  .dend.dend2.dend2\n",
       "   `-----------------------------------------------------------------------------------------------|  .dend2\n",
       "   `--|  .dend3\n",
       "       `-----------------------|  .dend3.dend\n",
       "                                `----------|  .dend3.dend.dend\n",
       "                                            `-----------------------------------------------------------------------------------------------------------------|  .dend3.dend.dend.dend\n",
       "                                            `-----------------------------------------------------------------|  .dend3.dend.dend.dend2\n",
       "                                `-------------------------------------------------------------------------------|  .dend3.dend.dend2\n",
       "       `----------------|  .dend3.dend2\n",
       "                         `-------------|  .dend3.dend2.dend\n",
       "                         `---------------|  .dend3.dend2.dend2"
      ]
     },
     "execution_count": 6,
     "metadata": {},
     "output_type": "execute_result"
    }
   ],
   "source": [
    "morpho = Morphology.from_file('02a_pyramidal2aFI.swc')\n",
    "morpho.topology()"
   ]
  },
  {
   "cell_type": "code",
   "execution_count": null,
   "metadata": {
    "collapsed": true
   },
   "outputs": [],
   "source": []
  }
 ],
 "metadata": {
  "kernelspec": {
   "display_name": "Python 3",
   "language": "python",
   "name": "python3"
  },
  "language_info": {
   "codemirror_mode": {
    "name": "ipython",
    "version": 3
   },
   "file_extension": ".py",
   "mimetype": "text/x-python",
   "name": "python",
   "nbconvert_exporter": "python",
   "pygments_lexer": "ipython3",
   "version": "3.6.1"
  }
 },
 "nbformat": 4,
 "nbformat_minor": 2
}
